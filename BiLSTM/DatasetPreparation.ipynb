{
 "cells": [
  {
   "cell_type": "code",
   "execution_count": 1,
   "metadata": {},
   "outputs": [],
   "source": [
    "%load_ext autoreload\n",
    "%autoreload 2"
   ]
  },
  {
   "cell_type": "markdown",
   "metadata": {},
   "source": [
    "# Load Preprocessed Data"
   ]
  },
  {
   "cell_type": "code",
   "execution_count": 4,
   "metadata": {},
   "outputs": [],
   "source": [
    "from utils import *\n",
    "\n",
    "# Load the data\n",
    "X_train, y_train, X_dev, y_dev, X_test, y_test = load_data()"
   ]
  },
  {
   "cell_type": "code",
   "execution_count": 5,
   "metadata": {},
   "outputs": [
    {
     "name": "stdout",
     "output_type": "stream",
     "text": [
      "X_train shape: (2456446,)\n",
      "y_train shape: (2456446,)\n",
      "X_dev shape: (348,)\n",
      "y_dev shape: (348,)\n",
      "X_test shape: (1357,)\n",
      "y_test shape: (1357,)\n"
     ]
    }
   ],
   "source": [
    "print(\"X_train shape:\", X_train.shape)\n",
    "print(\"y_train shape:\", y_train.shape)\n",
    "\n",
    "print(\"X_dev shape:\", X_dev.shape)  \n",
    "print(\"y_dev shape:\", y_dev.shape)\n",
    "\n",
    "print(\"X_test shape:\", X_test.shape)\n",
    "print(\"y_test shape:\", y_test.shape)"
   ]
  },
  {
   "cell_type": "markdown",
   "metadata": {},
   "source": [
    "# Create LSTM Labels\n",
    "- X[i]: Human-Text Order\n",
    "- y[i]: Per-word Classification "
   ]
  },
  {
   "cell_type": "code",
   "execution_count": 6,
   "metadata": {},
   "outputs": [],
   "source": [
    "y_lstm_train = create_lstm_labels(X_train, y_train)\n",
    "y_lstm_dev = create_lstm_labels(X_dev, y_dev)\n",
    "y_lstm_test = create_lstm_labels(X_test, y_test)"
   ]
  },
  {
   "cell_type": "code",
   "execution_count": 7,
   "metadata": {},
   "outputs": [
    {
     "name": "stdout",
     "output_type": "stream",
     "text": [
      "X_lstm_test shape: 1357\n",
      "y_lstm_test shape: 1357\n",
      "X_test[10]: get me a pizza with sausage olives and pineapple\n",
      "y_lstm[10] [3, 3, 0, 3, 3, 1, 1, 3, 1]\n"
     ]
    }
   ],
   "source": [
    "print(\"X_lstm_test shape:\", len(X_test))\n",
    "print(\"y_lstm_test shape:\", len(y_lstm_test))\n",
    "\n",
    "\n",
    "print(f\"X_test[10]: {X_test[10]}\")\n",
    "print(\"y_lstm[10]\", y_lstm_test[10])"
   ]
  },
  {
   "cell_type": "markdown",
   "metadata": {},
   "source": [
    "# Saving Generated Datasets"
   ]
  },
  {
   "cell_type": "code",
   "execution_count": 8,
   "metadata": {},
   "outputs": [],
   "source": [
    "write_lstm_dataset_to_json(\"datasets/LSTM_train.json\", X_train, y_lstm_train)\n",
    "write_lstm_dataset_to_json(\"datasets/LSTM_dev.json\", X_dev, y_lstm_dev)\n",
    "write_lstm_dataset_to_json(\"datasets/LSTM_test.json\", X_test, y_lstm_test)"
   ]
  },
  {
   "cell_type": "code",
   "execution_count": 9,
   "metadata": {},
   "outputs": [
    {
     "name": "stdout",
     "output_type": "stream",
     "text": [
      "X_test shape: 1357\n",
      "y_test shape: 1357\n",
      "X_test[10]: get me a pizza with sausage olives and pineapple\n",
      "y_test[10]: [3, 3, 0, 3, 3, 1, 1, 3, 1]\n"
     ]
    }
   ],
   "source": [
    "from utils import load_lstm_dataset_from_json\n",
    "X_test, y_test = load_lstm_dataset_from_json(\"datasets/LSTM_test.json\")\n",
    "print(f\"X_test shape: {len(X_test)}\")\n",
    "print(f\"y_test shape: {len(y_test)}\")\n",
    "\n",
    "print(f\"X_test[10]: {X_test[10]}\")\n",
    "print(f\"y_test[10]: {y_test[10]}\")"
   ]
  },
  {
   "cell_type": "code",
   "execution_count": 9,
   "metadata": {},
   "outputs": [],
   "source": [
    "X, y = load_lstm_dataset_from_json(\"datasets/LSTM_train.json\", 12000)\n",
    "write_lstm_dataset_to_json(\"datasets/LSTM_train_12000.json\", X, y)"
   ]
  }
 ],
 "metadata": {
  "kernelspec": {
   "display_name": "base",
   "language": "python",
   "name": "python3"
  },
  "language_info": {
   "codemirror_mode": {
    "name": "ipython",
    "version": 3
   },
   "file_extension": ".py",
   "mimetype": "text/x-python",
   "name": "python",
   "nbconvert_exporter": "python",
   "pygments_lexer": "ipython3",
   "version": "3.9.12"
  }
 },
 "nbformat": 4,
 "nbformat_minor": 2
}
