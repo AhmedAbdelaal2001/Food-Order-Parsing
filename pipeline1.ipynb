{
 "cells": [
  {
   "cell_type": "markdown",
   "metadata": {},
   "source": [
    "## Imports"
   ]
  },
  {
   "cell_type": "markdown",
   "metadata": {},
   "source": [
    "Make sure to import all of the necessary dependencies for your model to operate. Both pipeline 1 and 2 should include the following:\n",
    "\n",
    "1. utils.py\n",
    "2. Path to the child model class (in this case, BERT_NER)\n",
    "3. Any extra dependencies unrelated to the class (in this case, BERT's AutoTokenizer)"
   ]
  },
  {
   "cell_type": "code",
   "execution_count": 1,
   "metadata": {},
   "outputs": [
    {
     "name": "stdout",
     "output_type": "stream",
     "text": [
      "WARNING:tensorflow:From c:\\Users\\Abdelaal\\anaconda3\\Lib\\site-packages\\keras\\src\\losses.py:2976: The name tf.losses.sparse_softmax_cross_entropy is deprecated. Please use tf.compat.v1.losses.sparse_softmax_cross_entropy instead.\n",
      "\n"
     ]
    },
    {
     "name": "stderr",
     "output_type": "stream",
     "text": [
      "c:\\Users\\Abdelaal\\anaconda3\\Lib\\site-packages\\transformers\\utils\\generic.py:260: UserWarning: torch.utils._pytree._register_pytree_node is deprecated. Please use torch.utils._pytree.register_pytree_node instead.\n",
      "  torch.utils._pytree._register_pytree_node(\n"
     ]
    }
   ],
   "source": [
    "from BERT_NER import *\n",
    "from utils import *\n",
    "from transformers import AutoTokenizer"
   ]
  },
  {
   "cell_type": "markdown",
   "metadata": {},
   "source": [
    "## Instantiating the Modules"
   ]
  },
  {
   "cell_type": "markdown",
   "metadata": {},
   "source": [
    "First, store the path to the test dataset"
   ]
  },
  {
   "cell_type": "code",
   "execution_count": 2,
   "metadata": {},
   "outputs": [],
   "source": [
    "test_data_dir = \"dataset/PIZZA_test.json\""
   ]
  },
  {
   "cell_type": "markdown",
   "metadata": {},
   "source": [
    "Then, load modules 1 and 2 using the classes you created. You can change the constructor to take any parameters; just make sure that you classes contain an implementation of the \"predict_labels\" method and takes no extra parameters."
   ]
  },
  {
   "cell_type": "code",
   "execution_count": 3,
   "metadata": {},
   "outputs": [],
   "source": [
    "tokenizer = AutoTokenizer.from_pretrained(\"models/pizza_tokenizer\")\n",
    "module1 = BERT_NER('models/ISA_model_2', tokenizer)\n",
    "module2 = BERT_NER('models/order_parser_improved_2', tokenizer)"
   ]
  },
  {
   "cell_type": "markdown",
   "metadata": {},
   "source": [
    "Done! The rest of the code should not be changed"
   ]
  },
  {
   "cell_type": "code",
   "execution_count": 5,
   "metadata": {},
   "outputs": [
    {
     "name": "stdout",
     "output_type": "stream",
     "text": [
      "Input Order: I would like to order two large chicago style pizzas with extra cheese pepperoni  no onions and bacon  and three small thin crust pizzas with a lot of olives and ham I also want five large bottles of coke and two medium cans of diet pepsi\n",
      "-------------------------------------------------\n",
      "Top Decoupled: (PIZZAORDER (NUMBER two ) (SIZE large ) (STYLE chicago style ) (COMPLEX_TOPPING (QUANTITY extra ) (TOPPING cheese ) ) (TOPPING pepperoni ) (NOT (TOPPING onions ) ) (TOPPING bacon ) ) (PIZZAORDER (NUMBER three ) (SIZE small ) (STYLE thin crust ) (COMPLEX_TOPPING (QUANTITY a lot of ) (TOPPING olives ) ) (TOPPING ham ) ) (DRINKORDER (NUMBER five ) (SIZE large ) (CONTAINERTYPE bottles ) (DRINKTYPE coke ) ) (DRINKORDER (NUMBER two ) (SIZE medium ) (CONTAINERTYPE cans ) (DRINKTYPE diet pepsi ) )\n",
      "-------------------------------------------------\n",
      "{\n",
      "  \"ORDER\": {\n",
      "    \"PIZZAORDER\": [\n",
      "      {\n",
      "        \"NUMBER\": \"two\",\n",
      "        \"SIZE\": \"large\",\n",
      "        \"STYLE\": [\n",
      "          {\n",
      "            \"NOT\": false,\n",
      "            \"TYPE\": \"chicago style\"\n",
      "          }\n",
      "        ],\n",
      "        \"AllTopping\": [\n",
      "          {\n",
      "            \"NOT\": false,\n",
      "            \"Quantity\": \"extra\",\n",
      "            \"Topping\": \"cheese\"\n",
      "          },\n",
      "          {\n",
      "            \"NOT\": false,\n",
      "            \"Quantity\": null,\n",
      "            \"Topping\": \"pepperoni\"\n",
      "          },\n",
      "          {\n",
      "            \"NOT\": true,\n",
      "            \"Quantity\": null,\n",
      "            \"Topping\": \"onions\"\n",
      "          },\n",
      "          {\n",
      "            \"NOT\": false,\n",
      "            \"Quantity\": null,\n",
      "            \"Topping\": \"bacon\"\n",
      "          }\n",
      "        ]\n",
      "      },\n",
      "      {\n",
      "        \"NUMBER\": \"three\",\n",
      "        \"SIZE\": \"small\",\n",
      "        \"STYLE\": [\n",
      "          {\n",
      "            \"NOT\": false,\n",
      "            \"TYPE\": \"thin crust\"\n",
      "          }\n",
      "        ],\n",
      "        \"AllTopping\": [\n",
      "          {\n",
      "            \"NOT\": false,\n",
      "            \"Quantity\": \"a lot of\",\n",
      "            \"Topping\": \"olives\"\n",
      "          },\n",
      "          {\n",
      "            \"NOT\": false,\n",
      "            \"Quantity\": null,\n",
      "            \"Topping\": \"ham\"\n",
      "          }\n",
      "        ]\n",
      "      }\n",
      "    ],\n",
      "    \"DRINKORDER\": [\n",
      "      {\n",
      "        \"NUMBER\": \"five\",\n",
      "        \"SIZE\": \"large\",\n",
      "        \"DRINKTYPE\": \"coke\",\n",
      "        \"CONTAINERTYPE\": \"bottles\"\n",
      "      },\n",
      "      {\n",
      "        \"NUMBER\": \"two\",\n",
      "        \"SIZE\": \"medium\",\n",
      "        \"DRINKTYPE\": \"diet pepsi\",\n",
      "        \"CONTAINERTYPE\": \"cans\"\n",
      "      }\n",
      "    ]\n",
      "  }\n",
      "}\n"
     ]
    }
   ],
   "source": [
    "characters_to_remove = \"!@#$%^&*()_+=[]{}|;:\\\",.<>?/`~\"\n",
    "sentence = input(\"Please enter your order: \")\n",
    "sentence = ''.join(char for char in sentence if char not in characters_to_remove)\n",
    "\n",
    "# Segment orders\n",
    "isa_words, isa_labels = module1.predict_labels(sentence)\n",
    "orders = segment_orders(isa_words, isa_labels)\n",
    "top_decoupled = ''\n",
    "for order_pair in orders:\n",
    "    order = order_pair[0]\n",
    "    is_pizza = order_pair[1]\n",
    "    parser_words, parser_labels = module2.predict_labels(order)\n",
    "\n",
    "    if is_pizza: id = 0\n",
    "    else: id = 1\n",
    "\n",
    "    top_decoupled += (generate_top_decoupled(order, parser_labels, id) + ' ')\n",
    "\n",
    "print(\"Input Order: \" + sentence)\n",
    "print(\"-------------------------------------------------\")\n",
    "print(\"Top Decoupled: \" + top_decoupled[:-1])\n",
    "print(\"-------------------------------------------------\")\n",
    "print(parse_and_convert_to_json(top_decoupled[:-1]))"
   ]
  },
  {
   "cell_type": "code",
   "execution_count": 5,
   "metadata": {},
   "outputs": [
    {
     "name": "stdout",
     "output_type": "stream",
     "text": [
      "Row Index: 1129\n",
      "Input Sentence: can i have a large pizza with red onions bell peppers pepperoni and lettuce\n",
      "True Output: (ORDER (PIZZAORDER (NUMBER a ) (SIZE large ) (TOPPING red onions ) (TOPPING bell peppers ) (TOPPING pepperoni ) (TOPPING lettuce ) ) )\n",
      "Predicted Output: (ORDER (PIZZAORDER (NUMBER a ) (SIZE large ) (TOPPING red onions ) (TOPPING bell ) (TOPPING peppers ) (TOPPING pepperoni ) (TOPPING lettuce ) ) )\n",
      "----------------------------------------------------------------------\n",
      "Row Index: 1176\n",
      "Input Sentence: two small double cheese double pepperoni pizzas please\n",
      "True Output: (ORDER (PIZZAORDER (NUMBER two ) (SIZE small ) (COMPLEX_TOPPING (QUANTITY double ) (TOPPING cheese ) ) (COMPLEX_TOPPING (QUANTITY double ) (TOPPING pepperoni ) ) ) )\n",
      "Predicted Output: (ORDER (PIZZAORDER (NUMBER two ) (SIZE small ) (COMPLEX_TOPPING (QUANTITY double ) (TOPPING cheese ) (QUANTITY double ) (TOPPING pepperoni ) ) ) )\n",
      "----------------------------------------------------------------------\n"
     ]
    }
   ],
   "source": [
    "import json\n",
    "correct_count = 0\n",
    "i = 0\n",
    "with open(test_data_dir, 'r') as infile:\n",
    "    for line in infile:\n",
    "        instance = json.loads(line)\n",
    "        input_sentence = instance.get(f\"test.SRC\", \"\")\n",
    "        input_sentence = ''.join(char for char in input_sentence if char not in characters_to_remove)\n",
    "        top = instance.get(f\"test.TOP\", \"\")\n",
    "        true_top_decoupled = generate_top_decoupled_from_top(top)\n",
    "\n",
    "        isa_words, isa_labels = module1.predict_labels(input_sentence)\n",
    "        orders = segment_orders(isa_words, isa_labels)\n",
    "        top_decoupled = ''\n",
    "        for order_pair in orders:\n",
    "            order = order_pair[0]\n",
    "            is_pizza = order_pair[1]\n",
    "            parser_words, parser_labels = module2.predict_labels(order)\n",
    "\n",
    "            if is_pizza: id = 0\n",
    "            else: id = 1\n",
    "\n",
    "            top_decoupled += (generate_top_decoupled(order, parser_labels, id) + ' ')\n",
    "        \n",
    "        top_decoupled = \"(ORDER \" + top_decoupled + ')'\n",
    "\n",
    "        if top_decoupled == true_top_decoupled: correct_count += 1\n",
    "        else:\n",
    "            print(f\"Row Index: {i}\")\n",
    "            print(\"Input Sentence: \" + input_sentence)\n",
    "            print(\"True Output: \" + true_top_decoupled)\n",
    "            print(\"Predicted Output: \" + top_decoupled)\n",
    "            print(\"----------------------------------------------------------------------\")\n",
    "        \n",
    "\n",
    "        i += 1"
   ]
  },
  {
   "cell_type": "code",
   "execution_count": 6,
   "metadata": {},
   "outputs": [
    {
     "data": {
      "text/plain": [
       "0.9985261606484893"
      ]
     },
     "execution_count": 6,
     "metadata": {},
     "output_type": "execute_result"
    }
   ],
   "source": [
    "correct_count / i"
   ]
  }
 ],
 "metadata": {
  "kernelspec": {
   "display_name": "base",
   "language": "python",
   "name": "python3"
  },
  "language_info": {
   "codemirror_mode": {
    "name": "ipython",
    "version": 3
   },
   "file_extension": ".py",
   "mimetype": "text/x-python",
   "name": "python",
   "nbconvert_exporter": "python",
   "pygments_lexer": "ipython3",
   "version": "3.11.5"
  }
 },
 "nbformat": 4,
 "nbformat_minor": 2
}
