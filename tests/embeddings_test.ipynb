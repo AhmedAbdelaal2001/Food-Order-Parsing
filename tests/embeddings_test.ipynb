{
 "cells": [
  {
   "cell_type": "code",
   "execution_count": null,
   "metadata": {},
   "outputs": [],
   "source": [
    "import sys\n",
    "import os"
   ]
  },
  {
   "cell_type": "code",
   "execution_count": null,
   "metadata": {},
   "outputs": [],
   "source": [
    "root_dir = os.path.abspath(os.path.join(os.getcwd(), \"..\"))\n",
    "sys.path.append(root_dir)"
   ]
  },
  {
   "cell_type": "code",
   "execution_count": null,
   "metadata": {},
   "outputs": [],
   "source": [
    "from embeddings import PPMI,Glove,BERT"
   ]
  },
  {
   "cell_type": "code",
   "execution_count": null,
   "metadata": {},
   "outputs": [],
   "source": [
    "PPMI_INST=PPMI(\"../dataset/formatted_train.json\",2,100) \n",
    "print(PPMI_INST.get_embedding(\"large\"))"
   ]
  },
  {
   "cell_type": "code",
   "execution_count": null,
   "metadata": {},
   "outputs": [],
   "source": [
    "glove50=\"../dataset/glove.6B.50d.txt\"\n",
    "glove100=\"../dataset/glove.6B.100d.txt\"\n",
    "glove200=\"../dataset/glove.6B.200d.txt\"\n",
    "glove300=\"../dataset/glove.6B.300d.txt\"\n",
    "Glove= Glove(\"../dataset/formatted_train.json\",glove300,300)\n",
    "print(Glove.embeddings.get(\"large\"))"
   ]
  },
  {
   "cell_type": "code",
   "execution_count": null,
   "metadata": {},
   "outputs": [],
   "source": [
    "Bert=BERT(\"../dataset/formatted_train.json\",\"bert-base-uncased\")\n",
    "print(Bert.get_embedding(\"a large bbq pulled pork\",\"large\"))   "
   ]
  }
 ],
 "metadata": {
  "kernelspec": {
   "display_name": "base",
   "language": "python",
   "name": "python3"
  },
  "language_info": {
   "codemirror_mode": {
    "name": "ipython",
    "version": 3
   },
   "file_extension": ".py",
   "mimetype": "text/x-python",
   "name": "python",
   "nbconvert_exporter": "python",
   "pygments_lexer": "ipython3",
   "version": "3.12.3"
  }
 },
 "nbformat": 4,
 "nbformat_minor": 2
}
