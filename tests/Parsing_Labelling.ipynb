{
 "cells": [
  {
   "cell_type": "code",
   "execution_count": 1,
   "metadata": {},
   "outputs": [],
   "source": [
    "import sys\n",
    "import os"
   ]
  },
  {
   "cell_type": "code",
   "execution_count": 2,
   "metadata": {},
   "outputs": [],
   "source": [
    "root_dir = os.path.abspath(os.path.join(os.getcwd(), \"..\"))\n",
    "sys.path.append(root_dir)"
   ]
  },
  {
   "cell_type": "code",
   "execution_count": 3,
   "metadata": {},
   "outputs": [],
   "source": [
    "from Preprocessor import Preprocessor"
   ]
  },
  {
   "cell_type": "code",
   "execution_count": 4,
   "metadata": {},
   "outputs": [],
   "source": [
    "preprocessor = Preprocessor(\"../dataset/PIZZA_train_sampled.json\", \"../dataset/PIZZA_dev.json\", \"../dataset/PIZZA_test.json\", \n",
    "                            \"../dataset/preprocessed_PIZZA_train_2.json\", \"../dataset/preprocessed_PIZZA_dev_2.json\", \n",
    "                            \"../dataset/preprocessed_PIZZA_test_2.json\")"
   ]
  },
  {
   "cell_type": "code",
   "execution_count": 5,
   "metadata": {},
   "outputs": [
    {
     "name": "stdout",
     "output_type": "stream",
     "text": [
      "Processed 1000 entries so far.\n",
      "Processed 2000 entries so far.\n",
      "Processed 3000 entries so far.\n",
      "Processed 4000 entries so far.\n",
      "Processed 5000 entries so far.\n",
      "Processed 6000 entries so far.\n",
      "Processed 7000 entries so far.\n",
      "Processed 8000 entries so far.\n",
      "Processed 9000 entries so far.\n",
      "Processed 10000 entries so far.\n",
      "Processed 10348 entries so far.\n"
     ]
    }
   ],
   "source": [
    "preprocessor._extract_orders(\"train\")"
   ]
  },
  {
   "cell_type": "code",
   "execution_count": 6,
   "metadata": {},
   "outputs": [
    {
     "name": "stdout",
     "output_type": "stream",
     "text": [
      "Processed 1000 entries so far.\n",
      "Processed 2000 entries so far.\n",
      "Processed 3000 entries so far.\n",
      "Processed 4000 entries so far.\n",
      "Processed 5000 entries so far.\n",
      "Processed 6000 entries so far.\n",
      "Processed 7000 entries so far.\n",
      "Processed 8000 entries so far.\n",
      "Processed 9000 entries so far.\n",
      "Processed 10000 entries so far.\n",
      "Processed 10348 entries so far.\n"
     ]
    }
   ],
   "source": [
    "preprocessor.Label_dataset(\"train\")"
   ]
  },
  {
   "cell_type": "code",
   "execution_count": 7,
   "metadata": {},
   "outputs": [],
   "source": [
    "preprocessor.get_unique_labels(\"train\")"
   ]
  }
 ],
 "metadata": {
  "kernelspec": {
   "display_name": "base",
   "language": "python",
   "name": "python3"
  },
  "language_info": {
   "codemirror_mode": {
    "name": "ipython",
    "version": 3
   },
   "file_extension": ".py",
   "mimetype": "text/x-python",
   "name": "python",
   "nbconvert_exporter": "python",
   "pygments_lexer": "ipython3",
   "version": "3.11.5"
  }
 },
 "nbformat": 4,
 "nbformat_minor": 2
}
