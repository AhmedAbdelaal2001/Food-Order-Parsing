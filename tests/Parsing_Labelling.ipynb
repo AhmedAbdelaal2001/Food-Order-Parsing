{
 "cells": [
  {
   "cell_type": "code",
   "execution_count": 1,
   "metadata": {},
   "outputs": [],
   "source": [
    "import sys\n",
    "import os"
   ]
  },
  {
   "cell_type": "code",
   "execution_count": 2,
   "metadata": {},
   "outputs": [],
   "source": [
    "root_dir = os.path.abspath(os.path.join(os.getcwd(), \"..\"))\n",
    "sys.path.append(root_dir)"
   ]
  },
  {
   "cell_type": "code",
   "execution_count": 3,
   "metadata": {},
   "outputs": [],
   "source": [
    "from Preprocessor import Preprocessor"
   ]
  },
  {
   "cell_type": "code",
   "execution_count": 4,
   "metadata": {},
   "outputs": [],
   "source": [
    "preprocessor = Preprocessor(\"../dataset/PIZZA_train.json\", \"../dataset/PIZZA_dev.json\", \"../dataset/PIZZA_test.json\", \n",
    "                            \"../dataset/preprocessed_PIZZA_train.json\", \"../dataset/preprocessed_PIZZA_dev.json\", \n",
    "                            \"../dataset/preprocessed_PIZZA_test.json\")"
   ]
  },
  {
   "cell_type": "code",
   "execution_count": null,
   "metadata": {},
   "outputs": [
    {
     "ename": "SyntaxError",
     "evalue": "invalid syntax (3812042102.py, line 1)",
     "output_type": "error",
     "traceback": [
      "\u001b[1;36m  Cell \u001b[1;32mIn[5], line 1\u001b[1;36m\u001b[0m\n\u001b[1;33m    preprocessor.extract_orders_from_entry((\"train.TOP\": \"(ORDER (PIZZAORDER (NUMBER three ) pies no (NOT (TOPPING american cheese ) ) ) and (PIZZAORDER (NUMBER three ) (SIZE party size ) pizzas without (NOT (TOPPING banana pepper ) ) ) )\"))\u001b[0m\n\u001b[1;37m                                                       ^\u001b[0m\n\u001b[1;31mSyntaxError\u001b[0m\u001b[1;31m:\u001b[0m invalid syntax\n"
     ]
    }
   ],
   "source": [
    "entry = {\n",
    "    \"train.TOP\": \"(ORDER (PIZZAORDER (NUMBER three ) pies no (NOT (TOPPING american cheese ) ) ) and (PIZZAORDER (NUMBER three ) (SIZE party size ) pizzas without (NOT (TOPPING banana pepper ) ) ) )\"\n",
    "}\n",
    "\n",
    "preprocessor.extract_orders_from_entry(entry, \"train\")"
   ]
  },
  {
   "cell_type": "code",
   "execution_count": null,
   "metadata": {},
   "outputs": [],
   "source": [
    "preprocessor._extract_orders(\"train\")"
   ]
  },
  {
   "cell_type": "code",
   "execution_count": null,
   "metadata": {},
   "outputs": [],
   "source": [
    "preprocessor.Label_dataset(\"train\")"
   ]
  }
 ],
 "metadata": {
  "kernelspec": {
   "display_name": "base",
   "language": "python",
   "name": "python3"
  },
  "language_info": {
   "codemirror_mode": {
    "name": "ipython",
    "version": 3
   },
   "file_extension": ".py",
   "mimetype": "text/x-python",
   "name": "python",
   "nbconvert_exporter": "python",
   "pygments_lexer": "ipython3",
   "version": "3.12.3"
  }
 },
 "nbformat": 4,
 "nbformat_minor": 2
}
