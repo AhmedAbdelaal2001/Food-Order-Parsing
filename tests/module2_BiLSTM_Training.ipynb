{
  "cells": [
    {
      "cell_type": "code",
      "execution_count": 11,
      "metadata": {
        "colab": {
          "base_uri": "https://localhost:8080/"
        },
        "id": "dMu2C5eZSg5h",
        "outputId": "675daf7d-9d89-476b-ad4d-a844ed29f315"
      },
      "outputs": [],
      "source": [
        "from gensim.models import KeyedVectors\n",
        "from sklearn.metrics.pairwise import cosine_similarity\n",
        "import numpy as np\n",
        "import os\n",
        "import sys\n",
        "root_dir = os.path.abspath(os.path.join(os.getcwd(), \"..\"))\n",
        "sys.path.append(root_dir)\n",
        "# Download the model (if not already cached) and load it\n",
        "word2vec_path= \"../word2vec-google-news-300\"\n",
        "word2vec=KeyedVectors.load(word2vec_path)"
      ]
    },
    {
      "cell_type": "code",
      "execution_count": 12,
      "metadata": {
        "id": "dG-ieIljStv_"
      },
      "outputs": [],
      "source": [
        "import json\n",
        "def read_file(doc_path,dataset_type):\n",
        "    with open(doc_path, 'r') as f:\n",
        "            labels=[]\n",
        "            sentences=[]\n",
        "            for line in f:\n",
        "                parsed_line = json.loads(line.strip())\n",
        "                if f\"{dataset_type}.SRC\" in parsed_line:\n",
        "                    sentences.append(parsed_line[f\"{dataset_type}.SRC\"])\n",
        "                if f\"{dataset_type}.LABELS\" in parsed_line:\n",
        "                    labels.append(parsed_line[f\"{dataset_type}.LABELS\"])\n",
        "    return sentences, labels"
      ]
    },
    {
      "cell_type": "code",
      "execution_count": 13,
      "metadata": {
        "id": "PpM_0VH1Tdxc"
      },
      "outputs": [],
      "source": [
        "X_train, y_train = read_file(\"../dataset/PIZZA_train_sampled.json\",\"train\")"
      ]
    },
    {
      "cell_type": "code",
      "execution_count": 14,
      "metadata": {
        "id": "ZYL-aG-NTgF4"
      },
      "outputs": [],
      "source": [
        "X_test, y_test = read_file(\"../dataset/PIZZA_test2.json\",\"test\")"
      ]
    },
    {
      "cell_type": "code",
      "execution_count": 15,
      "metadata": {
        "id": "kpyj35osTwPQ"
      },
      "outputs": [],
      "source": [
        "def classify_with_average_embedding(candidate,avg):\n",
        "    similarity = 0\n",
        "    words = candidate.split()  # Split the candidate into words\n",
        "    for word in words:\n",
        "        word_embeddings = [np.zeros(300)]\n",
        "        if word in word2vec:\n",
        "          word_embeddings =  [word2vec[word]]\n",
        "    if word_embeddings:\n",
        "        candidate_embedding = np.mean(word_embeddings, axis=0)\n",
        "        similarity = cosine_similarity([avg], [candidate_embedding])[0][0]\n",
        "    return similarity"
      ]
    },
    {
      "cell_type": "code",
      "execution_count": 16,
      "metadata": {
        "id": "BrNnbJJdUKYT"
      },
      "outputs": [],
      "source": [
        "def calculate_average_embedding(topping_list):\n",
        "    embeddings = []\n",
        "    for topping in topping_list:\n",
        "        words = topping.split()  # Split topping into words\n",
        "        for word in words:\n",
        "            if word in word2vec:\n",
        "              embeddings.append(word2vec[word])\n",
        "\n",
        "    # Calculate the average embedding for all toppings\n",
        "    if embeddings:\n",
        "        return np.mean(embeddings, axis=0)\n",
        "    else:\n",
        "        return None"
      ]
    },
    {
      "cell_type": "code",
      "execution_count": 17,
      "metadata": {
        "id": "u2Hsq9lXUVmk"
      },
      "outputs": [],
      "source": [
        "styles_list = [\n",
        "    \"cauliflower crust\", \"cauliflower crusts\", \"gluten free crust\", \"gluten-free crust\",\n",
        "    \"gluten free crusts\", \"gluten-free crusts\", \"keto crust\", \"keto crusts\",\n",
        "    \"sourdough crust\", \"sourdough crusts\", \"stuffed crust\", \"stuffed crusts\",\n",
        "    \"thick crust\", \"thick crusts\", \"high rise dough\", \"thin crust\", \"thin crusts\",\n",
        "    \"vegan\", \"vegetarian\", \"veggie\", \"supreme\", \"new york style\", \"big new yorker\",\n",
        "    \"napolitana\", \"napolitan\", \"neapolitan\", \"mediterranean\", \"med\", \"mexican\",\n",
        "    \"big meat\", \"meat lover\", \"meat lovers\", \"meatlover\", \"meatlovers\", \"every meat\",\n",
        "    \"all meat\", \"margherita\", \"margarita\", \"hawaiian\", \"deep dish\", \"deepdish\",\n",
        "    \"pan\", \"combination\", \"chicago style\", \"chicago\", \"all the cheese\", \"all cheese\",\n",
        "    \"cheese lover\", \"cheese lovers\", \"all the toppings\", \"everything\", \"with the works\",\n",
        "    \"every topping\", \"all the vegetables\", \"all veggies\"\n",
        "]\n",
        "\n",
        "styles_avg = calculate_average_embedding(styles_list)\n",
        "\n",
        "def is_style(sentence, i):\n",
        "    window_size =3\n",
        "    for j in range(-window_size, window_size + 1):  # Check from -3 to +3 words\n",
        "        if j != 0:  # Skip the current word itself\n",
        "            new_i = i + j\n",
        "            if 0 <= new_i < len(sentence):  # Ensure we don't go out of bounds\n",
        "                phrase = ' '.join([sentence[k].lower() for k in range(max(0, new_i - window_size), min(len(sentence), new_i + window_size + 1))])\n",
        "                if phrase in styles_list:\n",
        "                    return 1\n",
        "    ret_val = classify_with_average_embedding(sentence[i],styles_avg)\n",
        "    return ret_val"
      ]
    },
    {
      "cell_type": "code",
      "execution_count": 18,
      "metadata": {
        "id": "NA2V7qf2UYbJ"
      },
      "outputs": [],
      "source": [
        "sizes_list = [\n",
        "    \"small\", \"medium\", \"large\", \"extra large\", \"regular\", \"party size\",\n",
        "    \"party sized\", \"party - sized\", \"party - size\", \"lunch size\",\n",
        "    \"lunch sized\", \"lunch - sized\", \"lunch - size\", \"personal size\",\n",
        "    \"personal\", \"personal sized\", \"personal - sized\", \"personal - size\"\n",
        "]\n",
        "sizes_avg = calculate_average_embedding(sizes_list)\n",
        "\n",
        "def is_size(sentence, i):\n",
        "    for window_size in range(0, 4):  # Check window sizes 1, 2, and 3\n",
        "        for j in range(-window_size, window_size + 1):  # Check from -window_size to +window_size words\n",
        "              # Skip the current word itself\n",
        "                new_i = i + j\n",
        "                if 0 <= new_i < len(sentence):  # Ensure we don't go out of bounds\n",
        "                    # Construct the phrase by checking words from new_i - window_size to new_i + window_size\n",
        "                    phrase = ' '.join([sentence[k].lower() for k in range(max(0, new_i - window_size), min(len(sentence), new_i + window_size + 1))])\n",
        "\n",
        "                    if phrase in sizes_list:  # Check if the phrase is in sizes_list\n",
        "                        return 1\n",
        "    ret_val = classify_with_average_embedding(sentence[i],sizes_avg)\n",
        "    return ret_val\n"
      ]
    },
    {
      "cell_type": "code",
      "execution_count": 19,
      "metadata": {
        "id": "_KnoaOAwUagc"
      },
      "outputs": [],
      "source": [
        "drinks_list = [\n",
        "    \"7 up\", \"7 ups\", \"seven up\", \"seven ups\", \"cherry coke\", \"cherry cokes\",\n",
        "    \"cherry pepsi\", \"cherry pepsis\", \"coffee\", \"coffees\", \"coke\", \"cokes\",\n",
        "    \"coke zero\", \"coke zeros\", \"coke zeroes\", \"dr pepper\", \"dr peppers\",\n",
        "    \"dr peper\", \"dr pepers\", \"doctor peppers\", \"doctor pepper\", \"doctor pepers\",\n",
        "    \"doctor peper\", \"fanta\", \"fantas\", \"ginger ale\", \"ginger ales\",\n",
        "    \"ice tea\", \"iced tea\", \"ice teas\", \"iced teas\", \"lemon ice tea\",\n",
        "    \"lemon iced tea\", \"lemon ice teas\", \"lemon iced teas\", \"mountain dew\",\n",
        "    \"mountain dews\", \"pellegrino\", \"pellegrinos\", \"san pellegrino\",\n",
        "    \"san pellegrinos\", \"pepsi\", \"pepsis\", \"perrier\", \"perriers\",\n",
        "    \"pineapple soda\", \"pineapple sodas\", \"sprite\", \"sprites\", \"water\",\n",
        "    \"waters\", \"diet pepsi\", \"diet pepsis\", \"diet coke\", \"diet cokes\",\n",
        "    \"diet sprite\", \"diet sprites\", \"diet ice tea\", \"diet iced tea\",\n",
        "    \"diet ice teas\", \"diet iced teas\"\n",
        "]\n",
        "drinks_avg = calculate_average_embedding(drinks_list)\n",
        "\n",
        "def is_drink(sentence, i):\n",
        "    for window_size in range(0, 4):  # Check window sizes 1, 2, and 3\n",
        "        for j in range(-window_size, window_size + 1):  # Check from -window_size to +window_size words\n",
        "              # Skip the current word itself\n",
        "                new_i = i + j\n",
        "                if 0 <= new_i < len(sentence):  # Ensure we don't go out of bounds\n",
        "                    # Construct the phrase by checking words from new_i - window_size to new_i + window_size\n",
        "                    phrase = ' '.join([sentence[k].lower() for k in range(max(0, new_i - window_size), min(len(sentence), new_i + window_size + 1))])\n",
        "\n",
        "                    if phrase in drinks_list:  # Check if the phrase is in sizes_list\n",
        "                        return 1\n",
        "    ret_val = classify_with_average_embedding(sentence[i],drinks_avg)\n",
        "    return ret_val\n",
        "\n"
      ]
    },
    {
      "cell_type": "code",
      "execution_count": 20,
      "metadata": {
        "id": "CsWfB6kpUcJC"
      },
      "outputs": [],
      "source": [
        "quantities_list = [\n",
        "    \"light\", \"go light on the\", \"go light on\", \"light on the\", \"light on\",\n",
        "    \"little\", \"a little\", \"just a little\", \"just a bit\", \"only a little\",\n",
        "    \"only a bit\", \"not a lot of\", \"not a lot\", \"not much\", \"not many\",\n",
        "    \"a little bit\", \"a little bit of\", \"a drizzle of\", \"a drizzle\",\n",
        "    \"just a drizzle\", \"just a drizzle of\", \"only a drizzle\",\n",
        "    \"only a drizzle of\", \"no more than a drizzle\", \"no more than a drizzle of\",\n",
        "    \"just a tiny bit of\", \"a tiny bit of\", \"go heavy on\", \"go heavy on the\",\n",
        "    \"heavy on\", \"heavy on the\", \"lots of\", \"a lot of\", \"a whole lot of\",\n",
        "    \"a bunch of\", \"a whole bunch of\", \"extra\", \"lot of\",\"lot\"\n",
        "]\n",
        "quantities_avg = calculate_average_embedding(quantities_list)\n",
        "\n",
        "def is_quantity(sentence, i):\n",
        "    for window_size in range(0, 4):  # Check window sizes 1, 2, and 3\n",
        "        for j in range(-window_size, window_size + 1):  # Check from -window_size to +window_size words\n",
        "              # Skip the current word itself\n",
        "                new_i = i + j\n",
        "                if 0 <= new_i < len(sentence):  # Ensure we don't go out of bounds\n",
        "                    # Construct the phrase by checking words from new_i - window_size to new_i + window_size\n",
        "                    phrase = ' '.join([sentence[k].lower() for k in range(max(0, new_i - window_size), min(len(sentence), new_i + window_size + 1))])\n",
        "                    if phrase in quantities_list:  # Check if the phrase is in sizes_list\n",
        "                        return 1\n",
        "    ret_val = classify_with_average_embedding(sentence[i],quantities_avg)\n",
        "    return ret_val"
      ]
    },
    {
      "cell_type": "code",
      "execution_count": 21,
      "metadata": {
        "id": "gaPmI5WtUd1P"
      },
      "outputs": [],
      "source": [
        "toppings_list = [\n",
        "    \"alfredo chicken\", \"american cheese\", \"anchovy\", \"anchovies\", \"artichoke\", \"artichokes\",\n",
        "    \"arugula\", \"bacon\", \"bacons\", \"apple wood bacon\", \"applewood bacon\", \"balsamic glaze\",\n",
        "    \"balzamic glaze\", \"banana pepper\", \"banana peppers\", \"basil\", \"bay leaves\", \"bbq chicken\",\n",
        "    \"barbecue chicken\", \"bbq pulled pork\", \"barbecue pulled pork\", \"bbq sauce\", \"barbecue sauce\",\n",
        "    \"bean\", \"beans\", \"beef\", \"ground beef\", \"broccoli\", \"brocoli\", \"buffalo chicken\", \"buffalo mozzarella\",\n",
        "    \"buffalo mozarella\", \"buffalo sauce\", \"caramelized onions\", \"caramelized red onions\", \"caramelized onion\",\n",
        "    \"caramelized red onion\", \"carrot\", \"carrots\", \"cheddar cheese\", \"cheese\", \"cheeseburger\", \"cherry tomato\",\n",
        "    \"cherry tomatoes\", \"chicken\", \"chickens\", \"chorizo\", \"chorrizo\", \"cumin\", \"dried pepper\", \"dried peppers\",\n",
        "    \"dried tomato\", \"dried tomatoes\", \"feta cheese\", \"feta\", \"fried onion\", \"fried onions\", \"garlic\",\n",
        "    \"garlic powder\", \"green olive\", \"green olives\", \"green pepper\", \"green peppers\", \"grilled chicken\",\n",
        "    \"grilled pineapple\", \"ham\", \"hams\", \"hot pepper\", \"hot peppers\", \"italian sausage\", \"jalapeno pepper\",\n",
        "    \"jalapeno\", \"jalapeno peppers\", \"jalapenos\", \"kalamata olive\", \"kalamata olives\", \"lettuce\",\n",
        "    \"low fat cheese\", \"meatball\", \"meatballs\", \"mozzarella cheese\", \"mozarella cheese\", \"mozzarella\",\n",
        "    \"mozarella\", \"mushroom\", \"mushrooms\", \"olive oil\", \"olives\", \"olive\", \"black olive\", \"black olives\",\n",
        "    \"onions\", \"onion\", \"oregano\", \"parmesan cheese\", \"parmesan\", \"parsley\", \"pea\", \"peas\", \"pecorino cheese\",\n",
        "    \"pecorino\", \"pepperoni\", \"peppperoni\", \"pepperonis\", \"peppperonis\", \"peperoni\", \"peperonis\",\n",
        "    \"peperroni\", \"peperonni\", \"peperronni\", \"peppers\", \"pepper\", \"pesto\", \"pestos\", \"pesto sauce\",\n",
        "    \"pickle\", \"pickles\", \"pineapple\", \"pineapples\", \"pineaple\", \"pineaples\", \"ranch sauce\", \"red onion\",\n",
        "    \"red onions\", \"red pepper flake\", \"red pepper flakes\", \"red peppers\", \"red pepper\", \"ricotta cheese\",\n",
        "    \"ricotta\", \"roasted chicken\", \"roasted garlic\", \"roasted pepper\", \"roasted peppers\", \"roasted red pepper\",\n",
        "    \"roasted red peppers\", \"roasted green pepper\", \"roasted green peppers\", \"roasted tomato\",\n",
        "    \"roasted tomatoes\", \"rosemary\", \"salami\", \"sauce\", \"sausage\", \"sausages\", \"shrimp\", \"shrimps\",\n",
        "    \"spiced sausage\", \"spicy red sauce\", \"spinach\", \"tomato sauce\", \"tomato\", \"tomatoes\", \"tuna\", \"tunas\",\n",
        "    \"vegan pepperoni\", \"white onion\", \"white onions\", \"yellow pepper\", \"yellow peppers\",\"green\",\"red\",\"oil\"\n",
        "]\n",
        "\n",
        "toppings_avg = calculate_average_embedding(toppings_list)\n",
        "\n",
        "def is_topping(sentence, i):\n",
        "\n",
        "    for window_size in range(0, 4):  # Check window sizes 1, 2, and 3\n",
        "        for j in range(-window_size, window_size + 1):  # Check from -window_size to +window_size words\n",
        "              # Skip the current word itself\n",
        "                new_i = i + j\n",
        "                if 0 <= new_i < len(sentence):  # Ensure we don't go out of bounds\n",
        "                    # Construct the phrase by checking words from new_i - window_size to new_i + window_size\n",
        "                    phrase = ' '.join([sentence[k].lower() for k in range(max(0, new_i - window_size), min(len(sentence), new_i + window_size + 1))])\n",
        "\n",
        "                    if phrase in toppings_list:  # Check if the phrase is in sizes_list\n",
        "                        return 1\n",
        "    ret_val = classify_with_average_embedding(sentence[i],toppings_avg)\n",
        "    return ret_val\n"
      ]
    },
    {
      "cell_type": "code",
      "execution_count": 22,
      "metadata": {
        "id": "n0BXXSOZUgMI"
      },
      "outputs": [],
      "source": [
        "numbers_list = [\"1\",\"a pizza\",\"a drink\", \"a small\",\"a medium\", \"a large\", \"one\", \"just one\", \"only one\", \"two\", \"2\", \"three\", \"3\", \"four\", \"4\", \"five\", \"5\", \"six\", \"6\", \"seven\", \"7\", \"eight\", \"8\", \"nine\", \"9\", \"ten\", \"10\", \"eleven\", \"11\", \"twelve\", \"12\", \"thirteen\", \"13\", \"fourteen\", \"14\", \"fifteen\", \"15\"]\n",
        "numbers_avg = calculate_average_embedding(numbers_list)\n",
        "\n",
        "def is_number(sentence, i):\n",
        "\n",
        "    for window_size in range(0, 4):  # Check window sizes 1, 2, and 3\n",
        "        for j in range(-window_size, window_size + 1):  # Check from -window_size to +window_size words\n",
        "              # Skip the current word itself\n",
        "                new_i = i + j\n",
        "                if 0 <= new_i < len(sentence):  # Ensure we don't go out of bounds\n",
        "                    # Construct the phrase by checking words from new_i - window_size to new_i + window_size\n",
        "                    phrase = ' '.join([sentence[k].lower() for k in range(max(0, new_i - window_size), min(len(sentence), new_i + window_size + 1))])\n",
        "\n",
        "                    if phrase in numbers_list:  # Check if the phrase is in sizes_list\n",
        "                        return 1\n",
        "    ret_val = classify_with_average_embedding(sentence[i],numbers_avg)\n",
        "    return ret_val"
      ]
    },
    {
      "cell_type": "code",
      "execution_count": 23,
      "metadata": {
        "id": "yl59_iayUiGb"
      },
      "outputs": [],
      "source": [
        "def word2features(sentence, i):\n",
        "    sentence[i] = sentence[i].lower()\n",
        "    features = [0,0,0,0,0,0]\n",
        "    # Initialize the features for each category\n",
        "    style = is_style(sentence, i)\n",
        "    if style == 1:\n",
        "      features[0] = 1\n",
        "      return np.array(features)\n",
        "\n",
        "    size = is_size(sentence, i)\n",
        "    if size == 1:\n",
        "      features[1] = 1\n",
        "      return np.array(features)\n",
        "\n",
        "\n",
        "    drink = is_drink(sentence, i)\n",
        "    if drink == 1:\n",
        "      features[2] = 1\n",
        "      return np.array(features)\n",
        "\n",
        "\n",
        "    quantity = is_quantity(sentence, i)\n",
        "    if quantity ==1:\n",
        "      features[3] = 1\n",
        "      return np.array(features)\n",
        "\n",
        "    topping = is_topping(sentence, i)\n",
        "    if topping == 1:\n",
        "      features[4] = 1\n",
        "      return np.array(features)\n",
        "\n",
        "    number = is_number(sentence, i)\n",
        "    if number == 1:\n",
        "      features[5] =1\n",
        "      return np.array(features)\n",
        "    # Store all feature values in a list\n",
        "    temp_features = [style, size, drink, quantity, topping, number]\n",
        "\n",
        "    # If no feature is set to 1, choose the max feature (if > 0.5)\n",
        "\n",
        "    max_value = max(temp_features)\n",
        "    if max_value > 0.51:\n",
        "        features[temp_features.index(max_value)] = 1  # Set the feature with max value to 1\n",
        "\n",
        "    return np.array(features)\n",
        "\n"
      ]
    },
    {
      "cell_type": "code",
      "execution_count": 24,
      "metadata": {
        "id": "WPEL14U5Ukys"
      },
      "outputs": [],
      "source": [
        "def sentence_to_embeddings(sentence):\n",
        "    embeddings = []\n",
        "\n",
        "    for index, word in enumerate(sentence.split()):\n",
        "        categories_features = word2features(sentence.split(),index)\n",
        "\n",
        "        if word in word2vec:\n",
        "          features = word2vec[sentence.split()[index]]\n",
        "        else:\n",
        "          features = np.zeros(300)\n",
        "\n",
        "        embeddings.append(np.concatenate((features,np.array(categories_features))))\n",
        "\n",
        "\n",
        "\n",
        "    return np.array(embeddings)"
      ]
    },
    {
      "cell_type": "code",
      "execution_count": null,
      "metadata": {
        "id": "7f0gy3tQTh4i"
      },
      "outputs": [],
      "source": [
        "import numpy as np\n",
        "from tensorflow.keras.models import Sequential\n",
        "from tensorflow.keras.layers import LSTM, Bidirectional, Dense, TimeDistributed, Masking, Dropout\n",
        "from tensorflow.keras.preprocessing.sequence import pad_sequences\n",
        "from gensim.models import KeyedVectors\n",
        "from tensorflow.keras.utils import to_categorical\n",
        "from sklearn.model_selection import train_test_split\n",
        "\n",
        "\n",
        "embedding_dim = 306\n",
        "\n",
        "\n",
        "\n",
        "# Convert sentences to Word2Vec embeddings\n",
        "X_train_embeddings = [sentence_to_embeddings(sentence) for sentence in X_train]\n",
        "X_test_embeddings = [sentence_to_embeddings(sentence) for sentence in X_test]\n"
      ]
    },
    {
      "cell_type": "code",
      "execution_count": null,
      "metadata": {
        "id": "5O1dT-DDW-w_"
      },
      "outputs": [],
      "source": [
        "labels_to_indices ={\"COMPLEX_TOPPING-QUANTITY\": 0,\n",
        " \"COMPLEX_TOPPING-TOPPING_BEGIN\":1,\n",
        " 'COMPLEX_TOPPING-TOPPING_INTERMEDIATE':2,\n",
        " 'CONTAINERTYPE':3,\n",
        " 'DRINKTYPE':4,\n",
        " 'NOT-COMPLEX_TOPPING-QUANTITY':5,\n",
        " 'NOT-COMPLEX_TOPPING-TOPPING_BEGIN':6,\n",
        " 'NOT-STYLE':7,\n",
        " 'NOT-TOPPING_BEGIN':8,\n",
        " 'NOT-TOPPING_INTERMEDIATE':9,\n",
        " 'NUMBER':10,\n",
        " 'OTHER':11,\n",
        " 'SIZE':12,\n",
        " 'STYLE':13,\n",
        " 'TOPPING_BEGIN':14,\n",
        " 'TOPPING_INTERMEDIATE':15,\n",
        "'VOLUME':16}"
      ]
    },
    {
      "cell_type": "code",
      "execution_count": null,
      "metadata": {
        "id": "yxsbvdBJXCkk"
      },
      "outputs": [],
      "source": [
        "for i in range(len(y_train)):\n",
        "  for j in range(len(y_train[i])):\n",
        "    y_train[i][j] = labels_to_indices[y_train[i][j]]\n",
        "\n"
      ]
    },
    {
      "cell_type": "code",
      "execution_count": null,
      "metadata": {
        "id": "alX0i4FJXFC7"
      },
      "outputs": [],
      "source": [
        "for i in range(len(y_test)):\n",
        "  for j in range(len(y_test[i])):\n",
        "    y_test[i][j] = labels_to_indices[y_test[i][j]]"
      ]
    },
    {
      "cell_type": "code",
      "execution_count": null,
      "metadata": {
        "id": "7Dwmy-zMXJug"
      },
      "outputs": [],
      "source": [
        "\n",
        "# Pad the sequences\n",
        "max_len = max(\n",
        "    max(len(seq) for seq in X_train_embeddings),\n",
        "    max(len(seq) for seq in X_test_embeddings)\n",
        ")\n",
        "X_train_padded = pad_sequences(X_train_embeddings, maxlen=max_len, dtype='float32', padding='post', value=100)\n",
        "X_test_padded = pad_sequences(X_test_embeddings, maxlen=max_len, dtype='float32', padding='post', value=100)\n",
        "\n",
        "\n",
        "y_train_padded = pad_sequences(y_train, maxlen=max_len, padding='post', value=17)\n",
        "y_test_padded = pad_sequences(y_test, maxlen=max_len, padding='post', value=17)\n",
        "\n",
        "num_classes = len(set(label for seq in y_train + y_test for label in seq)) + 1\n",
        "\n",
        "y_train_one_hot = np.array([to_categorical(seq, num_classes=num_classes) for seq in y_train_padded])\n",
        "y_test_one_hot = np.array([to_categorical(seq, num_classes=num_classes) for seq in y_test_padded])\n"
      ]
    },
    {
      "cell_type": "code",
      "execution_count": null,
      "metadata": {
        "colab": {
          "base_uri": "https://localhost:8080/"
        },
        "id": "VlktIvzFZ1Tf",
        "outputId": "971387c1-719e-45d4-b1b7-3236f1e60c6f"
      },
      "outputs": [],
      "source": [
        "num_classes"
      ]
    },
    {
      "cell_type": "code",
      "execution_count": null,
      "metadata": {
        "colab": {
          "base_uri": "https://localhost:8080/",
          "height": 378
        },
        "id": "lh1TwALwXlFJ",
        "outputId": "b17ec075-b68a-4fe7-bdac-4a22fe75a4b5"
      },
      "outputs": [],
      "source": [
        "from tensorflow.keras.layers import SimpleRNN, Dropout, TimeDistributed, Dense\n",
        "\n",
        "from tensorflow.keras.layers import LayerNormalization, Bidirectional\n",
        "\n",
        "model = Sequential([\n",
        "    Bidirectional(LSTM(300, return_sequences=True), input_shape=(max_len, embedding_dim)),\n",
        "    LayerNormalization(),\n",
        "    Dropout(0.3),\n",
        "    LSTM(128, return_sequences=True, recurrent_dropout=0.2),\n",
        "    TimeDistributed(Dense(num_classes, activation=\"softmax\"))\n",
        "])\n",
        "\n",
        "model.compile(optimizer=\"adam\", loss=\"categorical_crossentropy\", metrics=[\"accuracy\"])\n",
        "model.summary()"
      ]
    },
    {
      "cell_type": "code",
      "execution_count": null,
      "metadata": {
        "id": "-AjQlDo2C2Ur"
      },
      "outputs": [],
      "source": [
        "x_total = np.concatenate((X_train_padded,X_test_padded))"
      ]
    },
    {
      "cell_type": "code",
      "execution_count": null,
      "metadata": {
        "id": "ZYWdMIyzDCon"
      },
      "outputs": [],
      "source": [
        "y_total = np.concatenate((y_train_one_hot,y_test_one_hot))"
      ]
    },
    {
      "cell_type": "code",
      "execution_count": null,
      "metadata": {
        "colab": {
          "base_uri": "https://localhost:8080/"
        },
        "id": "VwlLhijJXoPE",
        "outputId": "b494b74c-3d1a-4d34-df94-ed3918a853e9"
      },
      "outputs": [],
      "source": [
        "# Train the model\n",
        "model.fit(\n",
        "    x_total,\n",
        "    y_total,\n",
        "    validation_data=(X_test_padded, y_test_one_hot),\n",
        "    epochs=7,\n",
        "    batch_size=16\n",
        ")\n",
        "model.save(\"sequence_labelling_final_model_2.keras\")"
      ]
    },
    {
      "cell_type": "code",
      "execution_count": 1,
      "metadata": {
        "id": "iytnKuQqfEOX"
      },
      "outputs": [],
      "source": [
        "from tensorflow.keras.models import load_model"
      ]
    },
    {
      "cell_type": "code",
      "execution_count": null,
      "metadata": {
        "colab": {
          "base_uri": "https://localhost:8080/",
          "height": 332
        },
        "id": "E2WBcUKUcrB-",
        "outputId": "094def88-0876-4790-ea66-fe952448c7cf"
      },
      "outputs": [],
      "source": [
        "loaded_model = load_model(\"sequence_labelling_final_model_2.keras\")\n",
        "def predict_labels(model,sentence):\n",
        "    embeddings = sentence_to_embeddings(sentence)\n",
        "    padded = pad_sequences([embeddings], maxlen=max_len, dtype='float32', padding='post', value=100)\n",
        "    predictions = model.predict(padded)\n",
        "    predicted_labels = np.argmax(predictions, axis=-1)\n",
        "    # Map indices back to labels\n",
        "    index_to_label = {v: k for k, v in labels_to_indices.items()}\n",
        "    predicted_labels_mapped = [\n",
        "        [index_to_label.get(idx) for idx in seq] for seq in predicted_labels\n",
        "    ]\n",
        "    return predicted_labels_mapped"
      ]
    },
    {
      "cell_type": "code",
      "execution_count": null,
      "metadata": {
        "colab": {
          "base_uri": "https://localhost:8080/"
        },
        "id": "7ESVfp6NaNly",
        "outputId": "9b4afd0c-4bac-417b-f30f-92d574695192"
      },
      "outputs": [],
      "source": [
        "import numpy as np\n",
        "\n",
        "def calculate_accuracy(model, X_dev, y_dev, embedding_dim, max_len):\n",
        "    \"\"\"\n",
        "    Calculates accuracy with a tolerance for incorrect elements and creates a dictionary mapping\n",
        "    the number of mistakes to an array of (x, y_pred, y_true).\n",
        "\n",
        "    Args:\n",
        "        model: The trained LSTM model.\n",
        "        X_dev: The original unpadded input data for the development set.\n",
        "        y_dev: The true labels for the development set.\n",
        "        word2vec: The Word2Vec model used for embeddings.\n",
        "        embedding_dim: The embedding dimension.\n",
        "        max_len: The maximum sequence length used for padding during training.\n",
        "\n",
        "    Returns:\n",
        "        A tuple containing:\n",
        "            - accuracy: The accuracy score.\n",
        "            - mistake_dict: A dictionary mapping the number of mistakes to an array of (x, y_pred, y_true).\n",
        "    \"\"\"\n",
        "\n",
        "    mistake_dict = {}  # Initialize an empty dictionary to store results\n",
        "    correct_predictions = 0  # Initialize correct prediction counter\n",
        "    total_predictions = 0  # Initialize total prediction counter\n",
        "\n",
        "    for i in range(len(X_dev)):\n",
        "        sentence = X_dev[i]\n",
        "        true_labels = y_dev[i]\n",
        "\n",
        "        # Get embeddings for the current sentence\n",
        "        sentence_embeddings = sentence_to_embeddings(sentence)\n",
        "\n",
        "        # Pad the sentence embeddings to match the model's input shape\n",
        "        sentence_padded = pad_sequences([sentence_embeddings], maxlen=max_len, dtype='float32', padding='post')\n",
        "\n",
        "        # Get predictions for the padded sentence\n",
        "        predictions = model.predict(sentence_padded, verbose=0)\n",
        "        predicted_labels = np.argmax(predictions, axis=-1)[0]  # Get predicted labels for the sentence\n",
        "\n",
        "        # Calculate the number of incorrect elements\n",
        "        num_incorrect = np.sum(predicted_labels[:len(true_labels)] != true_labels)\n",
        "\n",
        "        # Update accuracy counters\n",
        "        total_predictions += 1\n",
        "        if num_incorrect == 0:  # If no mistakes, consider it a correct prediction\n",
        "            correct_predictions += 1\n",
        "            continue\n",
        "\n",
        "        # Add the (x, y_pred, y_true) tuple to the dictionary based on the number of mistakes\n",
        "        if num_incorrect not in mistake_dict:\n",
        "            mistake_dict[num_incorrect] = []\n",
        "        mistake_dict[num_incorrect].append((sentence, predicted_labels[:len(true_labels)], true_labels))\n",
        "\n",
        "\n",
        "    accuracy = correct_predictions / total_predictions  # Calculate accuracy\n",
        "    return accuracy, mistake_dict\n",
        "\n",
        "# Example usage:\n",
        "# print(\"Xtrain shape\",len(X_train))\n",
        "# print(\"ytrain shape\",len(y_train))\n",
        "# print(X_train[0])\n",
        "# print(y_train[0])\n",
        "accuracy, mistake_dict = calculate_accuracy(loaded_model, X_test, y_test, embedding_dim, max_len)\n",
        "print(f\"Accuracy: {accuracy}\")"
      ]
    },
    {
      "cell_type": "code",
      "execution_count": null,
      "metadata": {},
      "outputs": [],
      "source": [
        "sentence=\"I would like a large pizza with pepperoni and a coke\"\n",
        "print(predict_labels(loaded_model,sentence))"
      ]
    }
  ],
  "metadata": {
    "accelerator": "GPU",
    "colab": {
      "gpuType": "T4",
      "provenance": []
    },
    "kernelspec": {
      "display_name": "base",
      "language": "python",
      "name": "python3"
    },
    "language_info": {
      "codemirror_mode": {
        "name": "ipython",
        "version": 3
      },
      "file_extension": ".py",
      "mimetype": "text/x-python",
      "name": "python",
      "nbconvert_exporter": "python",
      "pygments_lexer": "ipython3",
      "version": "3.12.3"
    }
  },
  "nbformat": 4,
  "nbformat_minor": 0
}
