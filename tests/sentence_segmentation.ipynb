{
 "cells": [
  {
   "cell_type": "code",
   "execution_count": 1,
   "metadata": {},
   "outputs": [],
   "source": [
    "import sys\n",
    "import os"
   ]
  },
  {
   "cell_type": "code",
   "execution_count": 2,
   "metadata": {},
   "outputs": [],
   "source": [
    "root_dir = os.path.abspath(os.path.join(os.getcwd(), \"..\"))\n",
    "sys.path.append(root_dir)"
   ]
  },
  {
   "cell_type": "code",
   "execution_count": 3,
   "metadata": {},
   "outputs": [],
   "source": [
    "from Preprocessor import Preprocessor"
   ]
  },
  {
   "cell_type": "code",
   "execution_count": 4,
   "metadata": {},
   "outputs": [],
   "source": [
    "preprocessor = Preprocessor(\"../dataset/sampled_PIZZA_train.json\", \"../dataset/preprocessed_PIZZA_dev.json\", \"../dataset/preprocessed_PIZZA_test.json\", \n",
    "                            \"../dataset/segmented_PIZZA_train.json\", \"../dataset/segmented_PIZZA_dev.json\", \"../dataset/segmented_PIZZA_test.json\")"
   ]
  },
  {
   "cell_type": "code",
   "execution_count": 5,
   "metadata": {},
   "outputs": [
    {
     "name": "stdout",
     "output_type": "stream",
     "text": [
      "Processed 1000 entries so far.\n",
      "Processed 2000 entries so far.\n",
      "Processed 3000 entries so far.\n",
      "Processed 4000 entries so far.\n",
      "Processed 5000 entries so far.\n",
      "Processed 6000 entries so far.\n",
      "Processed 7000 entries so far.\n",
      "Processed 8000 entries so far.\n",
      "Processed 9000 entries so far.\n",
      "Processed 10000 entries so far.\n",
      "Processed 10348 entries for segmented dataset '../dataset/segmented_PIZZA_train.json'.\n"
     ]
    }
   ],
   "source": [
    "preprocessor.create_segmented_dataset(\"train\")"
   ]
  },
  {
   "cell_type": "code",
   "execution_count": 6,
   "metadata": {},
   "outputs": [
    {
     "name": "stdout",
     "output_type": "stream",
     "text": [
      "Processed 1000 entries so far.\n",
      "Processed 1357 entries for segmented dataset '../dataset/segmented_PIZZA_test.json'.\n"
     ]
    }
   ],
   "source": [
    "preprocessor.create_segmented_dataset(\"test\")"
   ]
  },
  {
   "cell_type": "code",
   "execution_count": null,
   "metadata": {},
   "outputs": [],
   "source": []
  }
 ],
 "metadata": {
  "kernelspec": {
   "display_name": "base",
   "language": "python",
   "name": "python3"
  },
  "language_info": {
   "codemirror_mode": {
    "name": "ipython",
    "version": 3
   },
   "file_extension": ".py",
   "mimetype": "text/x-python",
   "name": "python",
   "nbconvert_exporter": "python",
   "pygments_lexer": "ipython3",
   "version": "3.11.5"
  }
 },
 "nbformat": 4,
 "nbformat_minor": 2
}
