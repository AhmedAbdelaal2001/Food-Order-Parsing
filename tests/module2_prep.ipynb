{
 "cells": [
  {
   "cell_type": "code",
   "execution_count": 1,
   "metadata": {},
   "outputs": [],
   "source": [
    "import sys\n",
    "import os"
   ]
  },
  {
   "cell_type": "code",
   "execution_count": 2,
   "metadata": {},
   "outputs": [],
   "source": [
    "root_dir = os.path.abspath(os.path.join(os.getcwd(), \"..\"))\n",
    "sys.path.append(root_dir)"
   ]
  },
  {
   "cell_type": "code",
   "execution_count": 3,
   "metadata": {},
   "outputs": [],
   "source": [
    "import json"
   ]
  },
  {
   "cell_type": "code",
   "execution_count": 10,
   "metadata": {},
   "outputs": [],
   "source": [
    "with open(\"../dataset/PIZZA_train_sampled.json\", 'r') as infile, open(\"../dataset/PIZZA_train_2.json\", 'w') as outfile:\n",
    "\n",
    "    line_count = 0\n",
    "    processed_count = 0\n",
    "    batch = []\n",
    "\n",
    "    for line in infile:\n",
    "\n",
    "        instance = json.loads(line)\n",
    "        top_field = instance.get(f\"train.TOP\", \"\")\n",
    "\n",
    "        labels = []\n",
    "        orders = []\n",
    "\n",
    "        stack = []  # To track all special tokens\n",
    "\n",
    "        i = 0\n",
    "        flag = False\n",
    "        while i < len(top_field):\n",
    "            char = top_field[i]\n",
    "            if char == '(':\n",
    "                # Found the start of a new group\n",
    "                i += 1\n",
    "                group_start = i\n",
    "                while i < len(top_field) and top_field[i] != ' ':\n",
    "                    i += 1\n",
    "                entity = top_field[group_start:i]\n",
    "                stack.append(entity)\n",
    "                if entity in {\"PIZZAORDER\", \"DRINKORDER\"}:\n",
    "                    flag = True\n",
    "                    orders.append([])\n",
    "                    labels.append([])\n",
    "            elif char == ')':\n",
    "                # End of the current entity\n",
    "                if stack and stack[-1] in {\"PIZZAORDER\", \"DRINKORDER\"}:\n",
    "                    flag = False\n",
    "                if stack:\n",
    "                    stack.pop()\n",
    "                i += 1\n",
    "            elif char == ' ':\n",
    "                # Skip spaces\n",
    "                i += 1\n",
    "            else:\n",
    "                # Process a token\n",
    "                group_start = i\n",
    "                while i < len(top_field) and top_field[i] != ' ':\n",
    "                    i += 1\n",
    "                word = top_field[group_start:i]\n",
    "\n",
    "                if flag:\n",
    "                    orders[-1].append(word)\n",
    "                    label = '-'.join(stack[2:])\n",
    "                    if label == \"\": label = \"OTHER\"\n",
    "                    labels[-1].append(label)\n",
    "        \n",
    "        for i in range(len(orders)):\n",
    "            item = {\n",
    "                \"train.SRC\": ' '.join(orders[i]),\n",
    "                \"train.LABELS\": labels[i]\n",
    "            }\n",
    "            outfile.write(json.dumps(item) + '\\n')\n"
   ]
  },
  {
   "cell_type": "code",
   "execution_count": 12,
   "metadata": {},
   "outputs": [
    {
     "name": "stdout",
     "output_type": "stream",
     "text": [
      "{'DRINKTYPE', 'OTHER', 'TOPPING', 'VOLUME', 'NOT-TOPPING', 'SIZE', 'CONTAINERTYPE', 'NOT-COMPLEX_TOPPING-QUANTITY', 'NOT', 'STYLE', 'NOT-COMPLEX_TOPPING-TOPPING', 'COMPLEX_TOPPING-QUANTITY', 'NOT-STYLE', 'COMPLEX_TOPPING-TOPPING', 'NUMBER'}\n"
     ]
    }
   ],
   "source": [
    "with open(\"../dataset/PIZZA_train_2.json\", 'r') as infile:\n",
    "    unique_labels = set()\n",
    "\n",
    "    for line in infile:\n",
    "        instance = json.loads(line)\n",
    "        labels_field = instance.get(f\"train.LABELS\", \"\")\n",
    "        for label in labels_field: unique_labels.add(label)\n",
    "\n",
    "\n",
    "print(unique_labels)\n",
    "\n",
    "    "
   ]
  },
  {
   "cell_type": "code",
   "execution_count": 13,
   "metadata": {},
   "outputs": [],
   "source": [
    "with open(\"../dataset/PIZZA_test.json\", 'r') as infile, open(\"../dataset/PIZZA_test_2.json\", 'w') as outfile:\n",
    "\n",
    "    line_count = 0\n",
    "    processed_count = 0\n",
    "    batch = []\n",
    "\n",
    "    for line in infile:\n",
    "\n",
    "        instance = json.loads(line)\n",
    "        top_field = instance.get(f\"test.TOP\", \"\")\n",
    "\n",
    "        labels = []\n",
    "        orders = []\n",
    "\n",
    "        stack = []  # To track all special tokens\n",
    "\n",
    "        i = 0\n",
    "        flag = False\n",
    "        while i < len(top_field):\n",
    "            char = top_field[i]\n",
    "            if char == '(':\n",
    "                # Found the start of a new group\n",
    "                i += 1\n",
    "                group_start = i\n",
    "                while i < len(top_field) and top_field[i] != ' ':\n",
    "                    i += 1\n",
    "                entity = top_field[group_start:i]\n",
    "                stack.append(entity)\n",
    "                if entity in {\"PIZZAORDER\", \"DRINKORDER\"}:\n",
    "                    flag = True\n",
    "                    orders.append([])\n",
    "                    labels.append([])\n",
    "            elif char == ')':\n",
    "                # End of the current entity\n",
    "                if stack and stack[-1] in {\"PIZZAORDER\", \"DRINKORDER\"}:\n",
    "                    flag = False\n",
    "                if stack:\n",
    "                    stack.pop()\n",
    "                i += 1\n",
    "            elif char == ' ':\n",
    "                # Skip spaces\n",
    "                i += 1\n",
    "            else:\n",
    "                # Process a token\n",
    "                group_start = i\n",
    "                while i < len(top_field) and top_field[i] != ' ':\n",
    "                    i += 1\n",
    "                word = top_field[group_start:i]\n",
    "\n",
    "                if flag:\n",
    "                    orders[-1].append(word)\n",
    "                    label = '-'.join(stack[2:])\n",
    "                    if label == \"\": label = \"OTHER\"\n",
    "                    labels[-1].append(label)\n",
    "        \n",
    "        for i in range(len(orders)):\n",
    "            item = {\n",
    "                \"test.SRC\": ' '.join(orders[i]),\n",
    "                \"test.LABELS\": labels[i]\n",
    "            }\n",
    "            outfile.write(json.dumps(item) + '\\n')\n"
   ]
  },
  {
   "cell_type": "code",
   "execution_count": 14,
   "metadata": {},
   "outputs": [
    {
     "name": "stdout",
     "output_type": "stream",
     "text": [
      "{'DRINKTYPE', 'OTHER', 'TOPPING', 'VOLUME', 'NOT-TOPPING', 'SIZE', 'CONTAINERTYPE', 'NOT-COMPLEX_TOPPING-QUANTITY', 'STYLE', 'NOT-COMPLEX_TOPPING-TOPPING', 'COMPLEX_TOPPING-QUANTITY', 'NOT-STYLE', 'COMPLEX_TOPPING-TOPPING', 'NUMBER'}\n"
     ]
    }
   ],
   "source": [
    "with open(\"../dataset/PIZZA_test_2.json\", 'r') as infile:\n",
    "    unique_labels = set()\n",
    "\n",
    "    for line in infile:\n",
    "        instance = json.loads(line)\n",
    "        labels_field = instance.get(f\"test.LABELS\", \"\")\n",
    "        for label in labels_field: unique_labels.add(label)\n",
    "\n",
    "\n",
    "print(unique_labels)\n",
    "\n",
    "    "
   ]
  },
  {
   "cell_type": "code",
   "execution_count": null,
   "metadata": {},
   "outputs": [],
   "source": [
    "{'DRINKTYPE', 'OTHER', 'TOPPING', 'VOLUME', 'NOT-TOPPING', 'SIZE', 'CONTAINERTYPE', 'NOT-COMPLEX_TOPPING-QUANTITY', 'NOT', 'STYLE', 'NOT-COMPLEX_TOPPING-TOPPING', 'COMPLEX_TOPPING-QUANTITY', 'NOT-STYLE', 'COMPLEX_TOPPING-TOPPING', 'NUMBER'}"
   ]
  }
 ],
 "metadata": {
  "kernelspec": {
   "display_name": "base",
   "language": "python",
   "name": "python3"
  },
  "language_info": {
   "codemirror_mode": {
    "name": "ipython",
    "version": 3
   },
   "file_extension": ".py",
   "mimetype": "text/x-python",
   "name": "python",
   "nbconvert_exporter": "python",
   "pygments_lexer": "ipython3",
   "version": "3.11.5"
  }
 },
 "nbformat": 4,
 "nbformat_minor": 2
}
